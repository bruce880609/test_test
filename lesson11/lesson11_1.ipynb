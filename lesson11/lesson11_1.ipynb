{
 "cells": [
  {
   "cell_type": "code",
   "execution_count": null,
   "id": "73fc38c6",
   "metadata": {},
   "outputs": [],
   "source": [
    "\n",
    "import requests\n",
    "from requests import Response\n",
    "\n",
    "\n",
    "url:str = 'https://raw.githubusercontent.com/roberthsu2003/__2025_04_29_python_2_4/refs/heads/main/lesson10/students.csv'\n",
    "\n",
    "# 1. 發送 GET 請求並取得網頁內容\n",
    "response:Response = requests.get(url)\n",
    "\n",
    "## 印出狀態碼，200 表示成功\n",
    "if response.status_code == 200:\n",
    "    print(\"下載成功\")\n",
    "    content:str = response.text"
   ]
  },
  {
   "cell_type": "code",
   "execution_count": null,
   "id": "2cd6b72c",
   "metadata": {},
   "outputs": [],
   "source": [
    "import io\n",
    "from io import StringIO\n",
    "import csv\n",
    "\n",
    "file:StringIO = io.StringIO(content)\n",
    "reader = csv.DictReader(file)\n",
    "students = [row for row in reader]\n",
    "file.close()\n",
    "students"
   ]
  }
 ],
 "metadata": {
  "kernelspec": {
   "display_name": "base",
   "language": "python",
   "name": "python3"
  },
  "language_info": {
   "name": "python",
   "version": "3.12.9"
  }
 },
 "nbformat": 4,
 "nbformat_minor": 5
}
