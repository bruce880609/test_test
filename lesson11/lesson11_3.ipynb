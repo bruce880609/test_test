{
 "cells": [
  {
   "cell_type": "code",
   "execution_count": null,
   "id": "e980e974",
   "metadata": {},
   "outputs": [
    {
     "ename": "",
     "evalue": "",
     "output_type": "error",
     "traceback": [
      "\u001b[1;31m執行具有 'python (Python 3.10.18)' 的儲存格需要 ipykernel 套件。\n",
      "\u001b[1;31m使用所需的套件<a href='command:jupyter.createPythonEnvAndSelectController'>建立 Python 環境</a>。\n",
      "\u001b[1;31m或使用命令 'conda install -n python ipykernel --update-deps --force-reinstall' 安裝 'ipykernel'"
     ]
    }
   ],
   "source": [
    "import requests\n",
    "from requests import Response\n",
    "from requests import HTTPError,ConnectionError,Timeout,RequestException\n",
    "\n",
    "url:str = 'https://opendata.cwa.gov.tw/api/v1/rest/datastore/F-C0032-001?Authorization=rdec-key-123-45678-011121314&format=JSON'\n",
    "headers = {\n",
    "    'User-Agent': 'Mozilla/5.0 (Macintosh; Intel Mac OS X 10_15_7) AppleWebKit/537.36 (KHTML, like Gecko) Chrome/137.0.0.0 Safari/537.36'\n",
    "}\n",
    "try:\n",
    "    response:Response = requests.get(url,headers=headers)\n",
    "    response.raise_for_status()\n",
    "except HTTPError:\n",
    "    print(f\"警告：伺服器回應狀態碼為 {response.status_code}，請求未成功！\")\n",
    "except ConnectionError:\n",
    "    print(\"網路連線異常，請檢查網路設定。\")\n",
    "except Timeout:\n",
    "    print(\"請求逾時，請稍後再試。\")\n",
    "except RequestException as e:\n",
    "    print(f\"請求發生錯誤：{e}\")\n",
    "except Exception:\n",
    "    print(\"不知名的錯誤\")\n",
    "else:\n",
    "    print(\"下載成功\")\n",
    "    content:str = response.text"
   ]
  },
  {
   "cell_type": "code",
   "execution_count": null,
   "id": "dd94476a",
   "metadata": {},
   "outputs": [],
   "source": [
    "response.json()"
   ]
  }
 ],
 "metadata": {
  "kernelspec": {
   "display_name": "python",
   "language": "python",
   "name": "python3"
  },
  "language_info": {
   "name": "python",
   "version": "3.10.18"
  }
 },
 "nbformat": 4,
 "nbformat_minor": 5
}
