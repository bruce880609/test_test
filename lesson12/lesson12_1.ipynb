{
 "cells": [
  {
   "cell_type": "code",
   "execution_count": 3,
   "id": "6bcff143",
   "metadata": {},
   "outputs": [
    {
     "ename": "ModuleNotFoundError",
     "evalue": "No module named 'requests'",
     "output_type": "error",
     "traceback": [
      "\u001b[1;31m---------------------------------------------------------------------------\u001b[0m",
      "\u001b[1;31mModuleNotFoundError\u001b[0m                       Traceback (most recent call last)",
      "Cell \u001b[1;32mIn[3], line 1\u001b[0m\n\u001b[1;32m----> 1\u001b[0m \u001b[38;5;28;01mimport\u001b[39;00m\u001b[38;5;250m \u001b[39m\u001b[38;5;21;01mrequests\u001b[39;00m\n\u001b[0;32m      2\u001b[0m \u001b[38;5;28;01mfrom\u001b[39;00m\u001b[38;5;250m \u001b[39m\u001b[38;5;21;01mrequests\u001b[39;00m\u001b[38;5;250m \u001b[39m\u001b[38;5;28;01mimport\u001b[39;00m Response\n\u001b[0;32m      3\u001b[0m \u001b[38;5;28;01mfrom\u001b[39;00m\u001b[38;5;250m \u001b[39m\u001b[38;5;21;01mrequests\u001b[39;00m\u001b[38;5;250m \u001b[39m\u001b[38;5;28;01mimport\u001b[39;00m HTTPError,\u001b[38;5;167;01mConnectionError\u001b[39;00m,Timeout,RequestException,JSONDecodeError\n",
      "\u001b[1;31mModuleNotFoundError\u001b[0m: No module named 'requests'"
     ]
    }
   ],
   "source": [
    "import requests\n",
    "from requests import Response\n",
    "from requests import HTTPError,ConnectionError,Timeout,RequestException,JSONDecodeError\n",
    "\n",
    "def fetch_json(url:str)->list[dict]:\n",
    "    try:\n",
    "        headers = {\n",
    "    'User-Agent': 'Mozilla/5.0 (Macintosh; Intel Mac OS X 10_15_7) AppleWebKit/537.36 (KHTML, like Gecko) Chrome/137.0.0.0 Safari/537.36'\n",
    "}\n",
    "        response:Response = requests.get(url,headers=headers)\n",
    "        response.raise_for_status()\n",
    "        print(\"下載成功\")\n",
    "        return response.json()\n",
    "    except HTTPError:\n",
    "        print(f\"警告：伺服器回應狀態碼為 {response.status_code}，請求未成功！\")\n",
    "    except ConnectionError:\n",
    "        print(\"網路連線異常，請檢查網路設定。\")\n",
    "    except Timeout:\n",
    "        print(\"請求逾時，請稍後再試。\")\n",
    "    except RequestException as e:\n",
    "        print(f\"請求發生錯誤：{e}\")\n",
    "    except JSONDecodeError:\n",
    "        print(f\"json格式錯誤\")\n",
    "    except Exception:\n",
    "        print(\"不知名的錯誤\")\n",
    "    \n",
    "url:str = 'https://tcgbusfs.blob.core.windows.net/dotapp/youbike/v2/youbike_immediate.json'\n",
    "data = fetch_json(url=url)"
   ]
  }
 ],
 "metadata": {
  "kernelspec": {
   "display_name": "python",
   "language": "python",
   "name": "python3"
  },
  "language_info": {
   "codemirror_mode": {
    "name": "ipython",
    "version": 3
   },
   "file_extension": ".py",
   "mimetype": "text/x-python",
   "name": "python",
   "nbconvert_exporter": "python",
   "pygments_lexer": "ipython3",
   "version": "3.10.18"
  }
 },
 "nbformat": 4,
 "nbformat_minor": 5
}
