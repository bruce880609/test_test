{
 "cells": [
  {
   "cell_type": "code",
   "execution_count": null,
   "id": "a0159d27",
   "metadata": {},
   "outputs": [],
   "source": [
    "\n",
    "import requests"
   ]
  }
 ],
 "metadata": {
  "kernelspec": {
   "display_name": "python",
   "language": "python",
   "name": "python3"
  },
  "language_info": {
   "name": "python",
   "version": "3.10.18"
  }
 },
 "nbformat": 4,
 "nbformat_minor": 5
}
