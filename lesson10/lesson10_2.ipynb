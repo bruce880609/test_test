{
 "cells": [
  {
   "cell_type": "code",
   "execution_count": 1,
   "id": "02d6f3b8",
   "metadata": {},
   "outputs": [
    {
     "data": {
      "text/plain": [
       "[{'姓名': '戴萱能', '國文': '92', '英文': '87', '數學': '83'},\n",
       " {'姓名': '姜琬婷', '國文': '92', '英文': '52', '數學': '92'},\n",
       " {'姓名': '黃志福', '國文': '69', '英文': '62', '數學': '84'}]"
      ]
     },
     "execution_count": 1,
     "metadata": {},
     "output_type": "execute_result"
    }
   ],
   "source": [
    "import csv\n",
    "\n",
    "with open('students.csv',encoding='utf-8',newline='') as csvfile:\n",
    "    reader = csv.DictReader(csvfile)\n",
    "    content:list[dict] = [row for row in reader]\n",
    "\n",
    "content"
   ]
  },
  {
   "cell_type": "code",
   "execution_count": 2,
   "id": "51e6c944",
   "metadata": {},
   "outputs": [
    {
     "data": {
      "text/plain": [
       "[{'姓名': '姜琬婷', '國文': '92', '英文': '52', '數學': '92'}]"
      ]
     },
     "execution_count": 2,
     "metadata": {},
     "output_type": "execute_result"
    }
   ],
   "source": [
    "\n",
    "fail_chinese = [item for item in content if int(item['國文']) < 60 or int(item['英文']) < 60 or int(item['數學']) < 60]\n",
    "fail_chinese"
   ]
  }
 ],
 "metadata": {
  "kernelspec": {
   "display_name": "python",
   "language": "python",
   "name": "python3"
  },
  "language_info": {
   "codemirror_mode": {
    "name": "ipython",
    "version": 3
   },
   "file_extension": ".py",
   "mimetype": "text/x-python",
   "name": "python",
   "nbconvert_exporter": "python",
   "pygments_lexer": "ipython3",
   "version": "3.10.18"
  }
 },
 "nbformat": 4,
 "nbformat_minor": 5
}
