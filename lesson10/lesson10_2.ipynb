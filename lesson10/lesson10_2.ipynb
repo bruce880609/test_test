{
 "cells": [
  {
   "cell_type": "code",
   "execution_count": null,
   "id": "02d6f3b8",
   "metadata": {},
   "outputs": [],
   "source": [
    "import csv\n",
    "\n",
    "with open('students.csv',encoding='utf-8',newline='') as csvfile:\n",
    "    reader = csv.DictReader(csvfile)\n",
    "    content:list[dict] = [row for row in reader]\n",
    "\n",
    "content"
   ]
  },
  {
   "cell_type": "code",
   "execution_count": null,
   "id": "51e6c944",
   "metadata": {},
   "outputs": [],
   "source": [
    "\n",
    "fail_chinese = [item for item in content if int(item['國文']) < 60 or int(item['英文']) < 60 or int(item['數學']) < 60]\n",
    "fail_chinese"
   ]
  }
 ],
 "metadata": {
  "kernelspec": {
   "display_name": "base",
   "language": "python",
   "name": "python3"
  },
  "language_info": {
   "name": "python",
   "version": "3.12.9"
  }
 },
 "nbformat": 4,
 "nbformat_minor": 5
}
