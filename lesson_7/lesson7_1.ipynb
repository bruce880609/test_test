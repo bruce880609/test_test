{
 "cells": [
  {
   "cell_type": "code",
   "execution_count": null,
   "id": "749441b8",
   "metadata": {},
   "outputs": [],
   "source": [
    "def menu(wine, entree, dessert):\n",
    "    print(f\"前酒:{wine}\")\n",
    "    print(f\"主餐:{entree}\")\n",
    "    print(f'甜點:{dessert}')"
   ]
  },
  {
   "cell_type": "code",
   "execution_count": null,
   "id": "dec5f3b9",
   "metadata": {},
   "outputs": [],
   "source": [
    "#引數值的呼叫\n",
    "menu('白酒', '牛排', '蛋糕')"
   ]
  },
  {
   "cell_type": "code",
   "execution_count": null,
   "id": "4c1c081d",
   "metadata": {},
   "outputs": [],
   "source": [
    "def menu(wine, entree, dessert):\n",
    "    print(f\"前酒:{wine}\")\n",
    "    print(f\"主餐:{entree}\")\n",
    "    print(f'甜點:{dessert}')"
   ]
  },
  {
   "cell_type": "code",
   "execution_count": null,
   "id": "0028a151",
   "metadata": {},
   "outputs": [],
   "source": [
    "menu(wine='白酒',entree='牛排',dessert='蛋糕')"
   ]
  },
  {
   "cell_type": "code",
   "execution_count": null,
   "id": "4356caea",
   "metadata": {},
   "outputs": [],
   "source": [
    "menu(entree='牛排',dessert='蛋糕',wine='白酒')"
   ]
  },
  {
   "cell_type": "code",
   "execution_count": null,
   "id": "4c992e41",
   "metadata": {},
   "outputs": [],
   "source": [
    "def menu(wine, entree, dessert):\n",
    "    print(f\"前酒:{wine}\")\n",
    "    print(f\"主餐:{entree}\")\n",
    "    print(f'甜點:{dessert}')"
   ]
  },
  {
   "cell_type": "code",
   "execution_count": null,
   "id": "256e3520",
   "metadata": {},
   "outputs": [],
   "source": [
    "menu('白酒',entree='牛排',dessert='蛋糕')"
   ]
  },
  {
   "cell_type": "code",
   "execution_count": null,
   "id": "c244a8d7",
   "metadata": {},
   "outputs": [],
   "source": [
    "menu('白酒',dessert='蛋糕',entree='牛排')"
   ]
  },
  {
   "cell_type": "code",
   "execution_count": null,
   "id": "e714cbf4",
   "metadata": {},
   "outputs": [],
   "source": [
    "def menu(wine, entree, dessert='奶昔'):\n",
    "    print(f\"前酒:{wine}\")\n",
    "    print(f\"主餐:{entree}\")\n",
    "    print(f'甜點:{dessert}')"
   ]
  },
  {
   "cell_type": "code",
   "execution_count": null,
   "id": "60f3e408",
   "metadata": {},
   "outputs": [],
   "source": [
    "menu('紅酒','牛排')"
   ]
  },
  {
   "cell_type": "code",
   "execution_count": null,
   "id": "7a20c32e",
   "metadata": {},
   "outputs": [],
   "source": [
    "menu('紅酒','牛排',dessert='蛋糕')"
   ]
  },
  {
   "cell_type": "code",
   "execution_count": null,
   "id": "a721e763",
   "metadata": {},
   "outputs": [],
   "source": [
    "def print_args(*args):\n",
    "    #args是tuple\n",
    "    print(args)"
   ]
  },
  {
   "cell_type": "code",
   "execution_count": null,
   "id": "0b604b2d",
   "metadata": {},
   "outputs": [],
   "source": [
    "#tuple是把一組數值包在一起,使用小括號()\n",
    "(1, 3, 5, 7, 9)"
   ]
  },
  {
   "cell_type": "code",
   "execution_count": null,
   "id": "8812723e",
   "metadata": {},
   "outputs": [],
   "source": [
    "print_args('a', 'b', 'c', 1, 2, 3,True,False)"
   ]
  },
  {
   "cell_type": "code",
   "execution_count": null,
   "id": "a9a3bcfa",
   "metadata": {},
   "outputs": [],
   "source": [
    "def print_kwargs(**kwargs):\n",
    "    #kwargs是dictionary\n",
    "    print(kwargs)"
   ]
  },
  {
   "cell_type": "code",
   "execution_count": null,
   "id": "016959f9",
   "metadata": {},
   "outputs": [],
   "source": [
    "print_kwargs(one=1,two=2,three=3,four=4,five=5)"
   ]
  },
  {
   "cell_type": "code",
   "execution_count": null,
   "id": "06b1ddad",
   "metadata": {},
   "outputs": [],
   "source": [
    "def print_mixed(*args, **kwargs):\n",
    "    print(args)\n",
    "    print(kwargs)"
   ]
  },
  {
   "cell_type": "code",
   "execution_count": null,
   "id": "efbc64fe",
   "metadata": {},
   "outputs": [],
   "source": [
    "print_mixed('a', 'b', 1, 2, True, False,\n",
    "            one=1,\n",
    "            two=2,\n",
    "            three=3,\n",
    "            four=4)"
   ]
  }
 ],
 "metadata": {
  "language_info": {
   "name": "python"
  }
 },
 "nbformat": 4,
 "nbformat_minor": 5
}
