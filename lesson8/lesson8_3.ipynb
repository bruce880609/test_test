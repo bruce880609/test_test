{
 "cells": [
  {
   "cell_type": "code",
   "execution_count": null,
   "id": "f405a747",
   "metadata": {
    "vscode": {
     "languageId": "plaintext"
    }
   },
   "outputs": [],
   "source": [
    "weekdays = ['星期一', '星期二', '星期三', '星期四', '星期五', '星期六', '星期日'] \n",
    "type(weekdays)"
   ]
  },
  {
   "cell_type": "code",
   "execution_count": null,
   "id": "a0f5ea83",
   "metadata": {
    "vscode": {
     "languageId": "plaintext"
    }
   },
   "outputs": [],
   "source": [
    "#所有的變數,你一定要知道資料類型\n",
    "fruits = ['apple', 'banana', 'orange']\n",
    "type(fruits)"
   ]
  },
  {
   "cell_type": "code",
   "execution_count": null,
   "id": "f292f773",
   "metadata": {
    "vscode": {
     "languageId": "plaintext"
    }
   },
   "outputs": [],
   "source": [
    "fruits.append(\"greap\")\n",
    "fruits"
   ]
  },
  {
   "cell_type": "code",
   "execution_count": null,
   "metadata": {
    "vscode": {
     "languageId": "plaintext"
    }
   },
   "outputs": [],
   "source": [
    "fruits.pop()\n",
    "fruits"
   ]
  }
 ],
 "metadata": {
  "language_info": {
   "name": "python"
  }
 },
 "nbformat": 4,
 "nbformat_minor": 5
}
