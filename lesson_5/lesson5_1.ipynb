{
 "cells": [
  {
   "cell_type": "code",
   "execution_count": null,
   "id": "6d95454d",
   "metadata": {},
   "outputs": [],
   "source": [
    "scores = int(input(\"請輸入學生分數0~100:\"))\n",
    "if scores < 60:\n",
    "    print('丁')\n",
    "elif scores < 70:\n",
    "    print('丙')\n",
    "elif scores < 80:\n",
    "    print('乙')\n",
    "elif scores < 90:\n",
    "    print('甲')\n",
    "else:\n",
    "    print('優')"
   ]
  },
  {
   "cell_type": "code",
   "execution_count": null,
   "id": "67b7d167",
   "metadata": {},
   "outputs": [],
   "source": [
    "chinese = int(input(\"請輸入國文分數\"))\n",
    "math = int(input(\"請輸入數學分數\"))\n",
    "\n",
    "if chinese == 100 and math == 100:\n",
    "    print(\"獎金1000\")\n",
    "elif chinese == 100 or math == 100:\n",
    "    print(\"獎金50\")\n",
    "else:\n",
    "    print(\"獎金0\")"
   ]
  }
 ],
 "metadata": {
  "kernelspec": {
   "display_name": "base",
   "language": "python",
   "name": "python3"
  },
  "language_info": {
   "name": "python",
   "version": "3.12.9"
  }
 },
 "nbformat": 4,
 "nbformat_minor": 5
}
