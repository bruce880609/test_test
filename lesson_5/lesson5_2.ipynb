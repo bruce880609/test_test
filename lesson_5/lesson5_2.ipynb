{
 "cells": [
  {
   "cell_type": "code",
   "execution_count": null,
   "id": "256f9ec6",
   "metadata": {},
   "outputs": [],
   "source": [
    "#1~10相加總\n",
    "n = 0\n",
    "n += 1\n",
    "n += 2\n",
    "n += 3\n",
    "n += 4\n",
    "n += 5\n",
    "n += 6\n",
    "n += 7\n",
    "n += 8\n",
    "n += 9\n",
    "n += 10\n",
    "\n",
    "n"
   ]
  },
  {
   "cell_type": "code",
   "execution_count": null,
   "id": "a5a1dcb8",
   "metadata": {},
   "outputs": [],
   "source": [
    "for i in range(10):\n",
    "    print(i)"
   ]
  },
  {
   "cell_type": "code",
   "execution_count": null,
   "id": "b134116d",
   "metadata": {},
   "outputs": [],
   "source": [
    "for i in range(1, 5):\n",
    "    print(i)"
   ]
  },
  {
   "cell_type": "code",
   "execution_count": null,
   "id": "f3171817",
   "metadata": {},
   "outputs": [],
   "source": [
    "\n",
    "for i in range(1,10,2):\n",
    "    print(i)"
   ]
  },
  {
   "cell_type": "code",
   "execution_count": null,
   "id": "eb4bc4fe",
   "metadata": {},
   "outputs": [],
   "source": [
    "n = int(input('請輸入n的值'))\n",
    "total = 0\n",
    "for i in range(1,n+1):\n",
    "    total += i\n",
    "\n",
    "print(f\"total={total}\")"
   ]
  },
  {
   "cell_type": "code",
   "execution_count": null,
   "id": "31e68d4d",
   "metadata": {},
   "outputs": [],
   "source": [
    "#巢狀迴圈\n",
    "for i in range(1,10):\n",
    "    for j in range(1,10):\n",
    "        print(f'{i}*{j}={i*j}',end='\\t')\n",
    "    print()"
   ]
  }
 ],
 "metadata": {
  "language_info": {
   "name": "python"
  }
 },
 "nbformat": 4,
 "nbformat_minor": 5
}
