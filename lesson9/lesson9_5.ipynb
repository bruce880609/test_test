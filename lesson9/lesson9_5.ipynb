{
 "cells": [
  {
   "cell_type": "markdown",
   "id": "613dda61",
   "metadata": {},
   "source": [
    "Python 讀取純文字檔（txt）主要有以下幾種常用方法：\n",
    "\n",
    "1. 使用 open() 函式搭配 read() 一次讀取全部內容\n",
    "f = open('text.txt', 'r')  # 開啟檔案，模式為讀取\n",
    "content = f.read()         # 讀取全部文字\n",
    "print(content)\n",
    "f.close()                  # 關閉檔案\n",
    "這種方法會一次將整個檔案內容讀入為一個字串[1][3]。\n",
    "\n",
    "2. 逐行讀取檔案內容\n",
    "使用 readlines() 讀取所有行，回傳列表\n",
    "f = open('text.txt', 'r')\n",
    "lines = f.readlines()  # 讀取所有行，回傳列表，每行包含換行符\n",
    "for line in lines:\n",
    "    print(line.strip())  # strip() 去除換行符\n",
    "f.close()\n",
    "使用迴圈直接遍歷檔案物件逐行讀取\n",
    "with open('text.txt', 'r') as f:\n",
    "    for line in f:\n",
    "        print(line.strip())\n",
    "這種方式適合逐行處理大型檔案[1][3]。\n",
    "\n",
    "3. 使用 with 語法自動管理檔案開關\n",
    "with open('text.txt', 'r') as f:\n",
    "    content = f.read()\n",
    "    print(content)\n",
    "with 會自動關閉檔案，避免忘記呼叫 close() 的問題[1][3][5]。\n",
    "\n",
    "補充說明\n",
    "open() 的第二個參數 'r' 表示讀取模式（read）。\n",
    "read() 會一次讀取整個檔案，適合檔案不大時使用。\n",
    "readline() 讀取一行文字，適合需要逐行處理時使用。\n",
    "readlines() 讀取所有行並以列表形式回傳。\n",
    "使用 strip() 可以去除字串前後的換行符號。"
   ]
  },
  {
   "cell_type": "code",
   "execution_count": null,
   "id": "6f3891f4",
   "metadata": {
    "vscode": {
     "languageId": "plaintext"
    }
   },
   "outputs": [],
   "source": [
    "file = open(\"names.txt\",encoding='utf-8')\n",
    "content = file.read()\n",
    "file.close()"
   ]
  },
  {
   "cell_type": "code",
   "execution_count": null,
   "id": "8e8541e8",
   "metadata": {
    "vscode": {
     "languageId": "plaintext"
    }
   },
   "outputs": [],
   "source": [
    "content"
   ]
  },
  {
   "cell_type": "code",
   "execution_count": null,
   "id": "9dc11b55",
   "metadata": {
    "vscode": {
     "languageId": "plaintext"
    }
   },
   "outputs": [],
   "source": [
    "file = open(\"names.txt\",encoding='utf-8')\n",
    "contents:list[str] = file.readlines()\n",
    "file.close()"
   ]
  },
  {
   "cell_type": "code",
   "execution_count": null,
   "id": "95b39bff",
   "metadata": {
    "vscode": {
     "languageId": "plaintext"
    }
   },
   "outputs": [],
   "source": [
    "# names:list = []\n",
    "# for name in contents:\n",
    "#     names.append(name.strip())\n",
    "# names\n",
    "\n",
    "names:list[str] = [name.strip() for name in contents]\n",
    "names"
   ]
  },
  {
   "cell_type": "code",
   "execution_count": null,
   "id": "136719bd",
   "metadata": {
    "vscode": {
     "languageId": "plaintext"
    }
   },
   "outputs": [],
   "source": [
    "name = \"徐國堂\\n\"\n",
    "name.strip()\n",
    "name"
   ]
  }
 ],
 "metadata": {
  "language_info": {
   "name": "python"
  }
 },
 "nbformat": 4,
 "nbformat_minor": 5
}
