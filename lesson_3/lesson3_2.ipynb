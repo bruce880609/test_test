{
 "cells": [
  {
   "cell_type": "code",
   "execution_count": null,
   "id": "1193633d",
   "metadata": {},
   "outputs": [],
   "source": [
    "n = 5\n",
    "n = n + 10\n",
    "print(n)"
   ]
  },
  {
   "cell_type": "code",
   "execution_count": null,
   "id": "ea430e42",
   "metadata": {},
   "outputs": [],
   "source": [
    "n = 5\n",
    "n += 10 #複合指定運算子\n",
    "print(n)"
   ]
  },
  {
   "cell_type": "code",
   "execution_count": null,
   "id": "527b1ea1",
   "metadata": {},
   "outputs": [],
   "source": [
    "import math\n",
    "side = eval(input(\"請輸入鄰邊:\"))\n",
    "another_side = eval(input(\"請輸入對邊:\"))\n",
    "result = math.sqrt(side ** 2 + another_side ** 2)\n",
    "print(\"鄰邊:\",side)\n",
    "print('對邊:',another_side)\n",
    "print('斜邊:',result)"
   ]
  }
 ],
 "metadata": {
  "language_info": {
   "name": "python"
  }
 },
 "nbformat": 4,
 "nbformat_minor": 5
}
