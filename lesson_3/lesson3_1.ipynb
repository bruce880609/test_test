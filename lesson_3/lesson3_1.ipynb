{
 "cells": [
  {
   "cell_type": "code",
   "execution_count": 2,
   "id": "307bea67",
   "metadata": {},
   "outputs": [
    {
     "name": "stdout",
     "output_type": "stream",
     "text": [
      "totla= 40\n"
     ]
    }
   ],
   "source": [
    "n = 15\n",
    "m = 25\n",
    "total = n + m\n",
    "print(\"totla=\" , total)"
   ]
  },
  {
   "cell_type": "code",
   "execution_count": 3,
   "id": "383108b8",
   "metadata": {},
   "outputs": [
    {
     "name": "stdout",
     "output_type": "stream",
     "text": [
      "15 25\n"
     ]
    }
   ],
   "source": [
    "x =5 + 10\n",
    "y = 20 + 5\n",
    "print(x,y)"
   ]
  },
  {
   "cell_type": "code",
   "execution_count": 4,
   "id": "48987866",
   "metadata": {},
   "outputs": [
    {
     "name": "stdout",
     "output_type": "stream",
     "text": [
      "你輸入的整數是= 5\n"
     ]
    }
   ],
   "source": [
    "value_str = input(\"清輸入整數:\")\n",
    "Value = int(value_str)\n",
    "print(\"你輸入的整數是=\" , Value)"
   ]
  },
  {
   "cell_type": "code",
   "execution_count": 6,
   "id": "6ebe5038",
   "metadata": {},
   "outputs": [
    {
     "name": "stdout",
     "output_type": "stream",
     "text": [
      "兩數的和是= 3\n"
     ]
    }
   ],
   "source": [
    "Value1 = int(input(\"第一個整數:\"))\n",
    "Value2 = int(input(\"第二個整數:\"))\n",
    "total = Value1 + Value2\n",
    "print(\"兩數的和是=\" , total)"
   ]
  },
  {
   "cell_type": "code",
   "execution_count": 8,
   "id": "56e8be7c",
   "metadata": {},
   "outputs": [
    {
     "name": "stdout",
     "output_type": "stream",
     "text": [
      "矩形寬: 4\n",
      "矩形高: 5\n",
      "矩形面積: 20\n"
     ]
    }
   ],
   "source": [
    "width = eval(input(\"矩形寬:\"))\n",
    "height = eval(input(\"矩形高:\"))\n",
    "area = width * height\n",
    "print(\"矩形寬:\",width)\n",
    "print(\"矩形高:\",height)\n",
    "print(\"矩形面積:\",area)\n"
   ]
  },
  {
   "cell_type": "code",
   "execution_count": 10,
   "id": "753a37a7",
   "metadata": {},
   "outputs": [
    {
     "name": "stdout",
     "output_type": "stream",
     "text": [
      "15\n",
      "15\n"
     ]
    }
   ],
   "source": [
    "n = 5 \n",
    "n = n+10\n",
    "print(n)\n",
    "\n",
    "m = 5 \n",
    "m += 10\n",
    "print(m)"
   ]
  },
  {
   "cell_type": "code",
   "execution_count": null,
   "id": "f103674c",
   "metadata": {},
   "outputs": [],
   "source": [
    "\n",
    "import math\n",
    "side = eval(input(\"請輸入鄰邊:\"))\n",
    "another_side = eval(input(\"請輸入對邊:\"))\n",
    "result = math.sqrt(side ** 2 + another_side ** 2)\n",
    "print(\"鄰邊:\",side)\n",
    "print('對邊:',another_side)\n",
    "print('斜邊:',result)"
   ]
  },
  {
   "cell_type": "code",
   "execution_count": null,
   "id": "3b0fb75a",
   "metadata": {},
   "outputs": [
    {
     "name": "stdout",
     "output_type": "stream",
     "text": [
      "對邊: 7\n",
      "斜邊: 7\n",
      "角度是: 90.0\n"
     ]
    }
   ],
   "source": [
    "#高中數學\n",
    "import math\n",
    "side = eval(input(\"請輸入對邊:\"))\n",
    "another_side = eval(input(\"請輸入斜邊:\"))\n",
    "radian = math.asin(side/another_side)\n",
    "degree = math.degrees(radian)\n",
    "\n",
    "print(f'對邊:{side}')\n",
    "print(f'斜邊:{another_side}')\n",
    "print(f'角度是:{degree:.2f}')"
   ]
  },
  {
   "cell_type": "code",
   "execution_count": null,
   "id": "a4f8737c",
   "metadata": {},
   "outputs": [],
   "source": [
    "#字串相加\n",
    "chinese = 92\n",
    "math = 100\n",
    "print(\"國文成績:\" + str(chinese) + \",數學成績:\" + str(math))"
   ]
  },
  {
   "cell_type": "code",
   "execution_count": null,
   "id": "03478945",
   "metadata": {},
   "outputs": [],
   "source": [
    "#字串和變數整合,成為全新的字串\n",
    "#字串插補\n",
    "chinese = 92.3756\n",
    "math = 100\n",
    "print(f\"國文成績:{chinese:.2f},數學成績:{math}\")\n"
   ]
  },
  {
   "cell_type": "code",
   "execution_count": null,
   "id": "f83b1dbf",
   "metadata": {},
   "outputs": [],
   "source": [
    "#高中數學\n",
    "import math\n",
    "side = eval(input(\"請輸入對邊:\"))\n",
    "another_side = eval(input(\"請輸入斜邊:\"))\n",
    "radian = math.asin(side/another_side)\n",
    "degree = math.degrees(radian)\n",
    "\n",
    "print(f'對邊:{side}')\n",
    "print(f'斜邊:{another_side}')\n",
    "print(f'角度是:{degree:.2f}')"
   ]
  },
  {
   "cell_type": "code",
   "execution_count": null,
   "id": "92195d29",
   "metadata": {},
   "outputs": [],
   "source": [
    "#字串相加\n",
    "chinese = 92\n",
    "math = 100\n",
    "print(\"國文成績:\" + str(chinese) + \",數學成績:\" + str(math))"
   ]
  },
  {
   "cell_type": "code",
   "execution_count": null,
   "id": "4440a435",
   "metadata": {},
   "outputs": [],
   "source": [
    "#字串和變數整合,成為全新的字串\n",
    "#字串插補\n",
    "chinese = 92.3756\n",
    "math = 100\n",
    "print(f\"國文成績:{chinese:.2f},數學成績:{math}\")"
   ]
  },
  {
   "cell_type": "code",
   "execution_count": null,
   "metadata": {},
   "outputs": [],
   "source": []
  }
 ],
 "metadata": {
  "kernelspec": {
   "display_name": "base",
   "language": "python",
   "name": "python3"
  },
  "language_info": {
   "codemirror_mode": {
    "name": "ipython",
    "version": 3
   },
   "file_extension": ".py",
   "mimetype": "text/x-python",
   "name": "python",
   "nbconvert_exporter": "python",
   "pygments_lexer": "ipython3",
   "version": "3.12.9"
  }
 },
 "nbformat": 4,
 "nbformat_minor": 5
}
