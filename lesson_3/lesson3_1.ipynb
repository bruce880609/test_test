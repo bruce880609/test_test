{
 "cells": [
  {
   "cell_type": "code",
   "execution_count": null,
   "id": "307bea67",
   "metadata": {},
   "outputs": [],
   "source": [
    "n = 15\n",
    "m = 25"
   ]
  },
  {
   "cell_type": "markdown",
   "id": "bcdef990",
   "metadata": {},
   "source": []
  }
 ],
 "metadata": {
  "kernelspec": {
   "display_name": "base",
   "language": "python",
   "name": "python3"
  },
  "language_info": {
   "name": "python",
   "version": "3.12.9"
  }
 },
 "nbformat": 4,
 "nbformat_minor": 5
}
