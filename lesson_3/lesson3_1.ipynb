{
 "cells": [
  {
   "cell_type": "code",
   "execution_count": 2,
   "id": "307bea67",
   "metadata": {},
   "outputs": [
    {
     "name": "stdout",
     "output_type": "stream",
     "text": [
      "totla= 40\n"
     ]
    }
   ],
   "source": [
    "n = 15\n",
    "m = 25\n",
    "total = n + m\n",
    "print(\"totla=\" , total)"
   ]
  },
  {
   "cell_type": "code",
   "execution_count": 3,
   "id": "383108b8",
   "metadata": {},
   "outputs": [
    {
     "name": "stdout",
     "output_type": "stream",
     "text": [
      "15 25\n"
     ]
    }
   ],
   "source": [
    "x =5 + 10\n",
    "y = 20 + 5\n",
    "print(x,y)"
   ]
  },
  {
   "cell_type": "code",
   "execution_count": 4,
   "id": "48987866",
   "metadata": {},
   "outputs": [
    {
     "name": "stdout",
     "output_type": "stream",
     "text": [
      "你輸入的整數是= 5\n"
     ]
    }
   ],
   "source": [
    "value_str = input(\"清輸入整數:\")\n",
    "Value = int(value_str)\n",
    "print(\"你輸入的整數是=\" , Value)"
   ]
  }
 ],
 "metadata": {
  "kernelspec": {
   "display_name": "base",
   "language": "python",
   "name": "python3"
  },
  "language_info": {
   "codemirror_mode": {
    "name": "ipython",
    "version": 3
   },
   "file_extension": ".py",
   "mimetype": "text/x-python",
   "name": "python",
   "nbconvert_exporter": "python",
   "pygments_lexer": "ipython3",
   "version": "3.12.9"
  }
 },
 "nbformat": 4,
 "nbformat_minor": 5
}
