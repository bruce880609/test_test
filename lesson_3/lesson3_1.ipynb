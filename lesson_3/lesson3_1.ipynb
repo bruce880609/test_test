{
 "cells": [
  {
   "cell_type": "code",
   "execution_count": 2,
   "id": "307bea67",
   "metadata": {},
   "outputs": [
    {
     "name": "stdout",
     "output_type": "stream",
     "text": [
      "totla= 40\n"
     ]
    }
   ],
   "source": [
    "n = 15\n",
    "m = 25\n",
    "total = n + m\n",
    "print(\"totla=\" , total)"
   ]
  },
  {
   "cell_type": "code",
   "execution_count": 3,
   "id": "383108b8",
   "metadata": {},
   "outputs": [
    {
     "name": "stdout",
     "output_type": "stream",
     "text": [
      "15 25\n"
     ]
    }
   ],
   "source": [
    "x =5 + 10\n",
    "y = 20 + 5\n",
    "print(x,y)"
   ]
  },
  {
   "cell_type": "code",
   "execution_count": 4,
   "id": "48987866",
   "metadata": {},
   "outputs": [
    {
     "name": "stdout",
     "output_type": "stream",
     "text": [
      "你輸入的整數是= 5\n"
     ]
    }
   ],
   "source": [
    "value_str = input(\"清輸入整數:\")\n",
    "Value = int(value_str)\n",
    "print(\"你輸入的整數是=\" , Value)"
   ]
  },
  {
   "cell_type": "code",
   "execution_count": 6,
   "id": "6ebe5038",
   "metadata": {},
   "outputs": [
    {
     "name": "stdout",
     "output_type": "stream",
     "text": [
      "兩數的和是= 3\n"
     ]
    }
   ],
   "source": [
    "Value1 = int(input(\"第一個整數:\"))\n",
    "Value2 = int(input(\"第二個整數:\"))\n",
    "total = Value1 + Value2\n",
    "print(\"兩數的和是=\" , total)"
   ]
  },
  {
   "cell_type": "code",
   "execution_count": 8,
   "id": "56e8be7c",
   "metadata": {},
   "outputs": [
    {
     "name": "stdout",
     "output_type": "stream",
     "text": [
      "矩形寬: 4\n",
      "矩形高: 5\n",
      "矩形面積: 20\n"
     ]
    }
   ],
   "source": [
    "width = eval(input(\"矩形寬:\"))\n",
    "height = eval(input(\"矩形高:\"))\n",
    "area = width * height\n",
    "print(\"矩形寬:\",width)\n",
    "print(\"矩形高:\",height)\n",
    "print(\"矩形面積:\",area)\n"
   ]
  }
 ],
 "metadata": {
  "kernelspec": {
   "display_name": "base",
   "language": "python",
   "name": "python3"
  },
  "language_info": {
   "codemirror_mode": {
    "name": "ipython",
    "version": 3
   },
   "file_extension": ".py",
   "mimetype": "text/x-python",
   "name": "python",
   "nbconvert_exporter": "python",
   "pygments_lexer": "ipython3",
   "version": "3.12.9"
  }
 },
 "nbformat": 4,
 "nbformat_minor": 5
}
