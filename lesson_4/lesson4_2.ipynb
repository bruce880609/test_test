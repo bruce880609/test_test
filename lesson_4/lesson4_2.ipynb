{
 "cells": [
  {
   "cell_type": "code",
   "execution_count": 3,
   "id": "befdf5ad",
   "metadata": {},
   "outputs": [
    {
     "name": "stdout",
     "output_type": "stream",
     "text": [
      "數值在120~220\n"
     ]
    }
   ],
   "source": [
    "value:int = int(input(\"請輸入一個數值:\"))\n",
    "if value >= 120:\n",
    "    if value <= 220:\n",
    "        print(\"數值在120~220\")"
   ]
  },
  {
   "cell_type": "code",
   "execution_count": 4,
   "id": "03b81ba8",
   "metadata": {},
   "outputs": [],
   "source": [
    "value:int = int(input(\"請輸入一個數值:\"))\n",
    "if value < 120:\n",
    "    print(\"小於120\")\n",
    "    \n",
    "if value > 220:\n",
    "    print(\"大於220\")"
   ]
  },
  {
   "cell_type": "code",
   "execution_count": 5,
   "id": "e0c97a85",
   "metadata": {},
   "outputs": [
    {
     "name": "stdout",
     "output_type": "stream",
     "text": [
      "數值在120~220\n"
     ]
    }
   ],
   "source": [
    "value:int = int(input(\"請輸入一個數值:\"))\n",
    "if value >= 120 and value <= 220: #使用邏輯運算子\n",
    "    print(\"數值在120~220\")"
   ]
  },
  {
   "cell_type": "code",
   "execution_count": 6,
   "id": "1feec8dd",
   "metadata": {},
   "outputs": [],
   "source": [
    "value:int = int(input(\"請輸入一個數值:\"))\n",
    "if value < 120 or value > 220:\n",
    "    print(\"小於120或者大於220\")\n",
    "    555\n",
    "    5\n",
    "    "
   ]
  }
 ],
 "metadata": {
  "kernelspec": {
   "display_name": "base",
   "language": "python",
   "name": "python3"
  },
  "language_info": {
   "codemirror_mode": {
    "name": "ipython",
    "version": 3
   },
   "file_extension": ".py",
   "mimetype": "text/x-python",
   "name": "python",
   "nbconvert_exporter": "python",
   "pygments_lexer": "ipython3",
   "version": "3.12.9"
  }
 },
 "nbformat": 4,
 "nbformat_minor": 5
}
