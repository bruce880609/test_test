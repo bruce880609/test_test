{
 "cells": [
  {
   "cell_type": "code",
   "execution_count": null,
   "id": "d7347b3c",
   "metadata": {},
   "outputs": [],
   "source": [
    "#單項選擇,有可能執行,也有可能不執行\n",
    "if False:\n",
    "    print(\"這是True的程式區塊\")\n",
    "    print(\"現在是True\")\n",
    "print(\"應用程式結束\")"
   ]
  },
  {
   "cell_type": "code",
   "execution_count": null,
   "id": "aed35711",
   "metadata": {},
   "outputs": [],
   "source": [
    "#雙項選擇,一定執行其中一個程式區塊\n",
    "#只要有else,一定執行其中一個程式區塊\n",
    "if True:\n",
    "    print(\"這是True的程式區塊\")\n",
    "    print(\"現在是True\")\n",
    "else:\n",
    "    print(\"這是False的程式區塊\")\n",
    "    print(\"現在是False\")\n",
    "print(\"應用程式結束\")"
   ]
  }
 ],
 "metadata": {
  "language_info": {
   "name": "python"
  }
 },
 "nbformat": 4,
 "nbformat_minor": 5
}
